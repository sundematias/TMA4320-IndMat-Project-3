{
 "cells": [
  {
   "cell_type": "code",
   "execution_count": null,
   "metadata": {},
   "outputs": [],
   "source": [
    "# Importing libraries\n",
    "import numpy as np\n",
    "import matplotlib.pyplot as plt\n",
    "from scipy.ndimage import label\n",
    "from tabulate import tabulate\n",
    "\n",
    "\n",
    "#%pip install opencv-python # Required to import cv2 !!!\n",
    "import cv2\n",
    "\n",
    "from IPython.display import display, Latex, Math\n",
    "\n",
    "import os\n",
    "import time\n",
    "\n",
    "plt.rcParams['figure.dpi'] = 250"
   ]
  },
  {
   "cell_type": "markdown",
   "metadata": {},
   "source": [
    "# Task 1"
   ]
  },
  {
   "cell_type": "code",
   "execution_count": null,
   "metadata": {},
   "outputs": [],
   "source": [
    "A_1 = np.array([\n",
    "    [1, 0],\n",
    "    [0, 1]\n",
    "]) \n",
    "\n",
    "A_2 = np.array([\n",
    "    [1, 2],\n",
    "    [1, 1], \n",
    "    [1, 2]\n",
    "])\n",
    "\n",
    "A_3 = np.array([\n",
    "    [2, 1, 1],\n",
    "    [2, 1, 1], \n",
    "    [1, 1, 2]\n",
    "])\n",
    "\n",
    "A_4 = np.array([\n",
    "    [2, 1, 0],\n",
    "    [1, 2, 3], \n",
    "    [0, 3, 3]\n",
    "])"
   ]
  },
  {
   "cell_type": "code",
   "execution_count": null,
   "metadata": {},
   "outputs": [],
   "source": [
    "def NMF(V, d, delta = 1e-9, maxiter = 1000, seed = 0, store_norms = False):\n",
    "    \"\"\"\n",
    "    ((Skriv en forklaring på hva funksjonen gjør her))\n",
    "    input:\n",
    "        V: (m,n) input array\n",
    "        d: integer, Number of components we want to decompose V into\n",
    "        delta, float, small number for safe division\n",
    "        maxiter: integer, maximum number of iterations\n",
    "        seed: integer, random seed\n",
    "    output:\n",
    "        W: (m,d) array\n",
    "        H: (d,n) array\n",
    "    \"\"\"\n",
    "\n",
    "    if seed != 0:\n",
    "        np.random.seed(seed)\n",
    "    \n",
    "    norms = np.zeros(maxiter)\n",
    "\n",
    "    #Initialize W and H to random numbers between 0 and 1 with the correct shape\n",
    "    m = np.shape(V)[0]\n",
    "    n = np.shape(V)[1]\n",
    "    W_0 = np.random.uniform(0.0, 1.0, m*d).reshape(m,d)\n",
    "    H_0 = np.random.uniform(0.0, 1.0, d*n).reshape(d,n)\n",
    "\n",
    "    #Scale the matrixes\n",
    "    W_0 = np.sqrt(np.mean(V)/d)*W_0\n",
    "    H_0 = np.sqrt(np.mean(V)/d)*H_0\n",
    "    #print(\"W_0 \",W_0)\n",
    "    #print(\"H_0 \",H_0)\n",
    "    \n",
    "    W_next = np.copy(W_0)\n",
    "    W_prev = np.copy(W_0)\n",
    "    H_next = np.copy(H_0)\n",
    "    H_prev = np.copy(H_0)\n",
    "    \n",
    "    for k in range(maxiter):\n",
    "        #gir samme resultat\n",
    "        #H_temp = np.divide(np.multiply(H_prev,np.dot(W_prev.T,V)),np.linalg.multi_dot([W_prev.T,W_prev,H_prev])+delta)\n",
    "        #W_temp = np.divide(np.multiply(W_prev,np.dot(V,H_next.T)),np.linalg.multi_dot([W_prev,H_next,H_next.T])+delta)\n",
    "\n",
    "        H_next = (H_prev * np.dot(W_prev.T,V)) / (np.linalg.multi_dot([W_prev.T,W_prev,H_prev])+delta)\n",
    "        W_next = (W_prev * np.dot(V,H_next.T)) / (np.linalg.multi_dot([W_prev,H_next,H_next.T])+delta)\n",
    "        H_prev = np.copy(H_next)\n",
    "        W_prev = np.copy(W_next)\n",
    "        norms[k] = np.linalg.norm(V- np.dot(W_next, H_next), 'fro')\n",
    "\n",
    "    if store_norms == False:\n",
    "        return W_next, H_next\n",
    "    else:\n",
    "        return W_next, H_next, norms"
   ]
  },
  {
   "cell_type": "markdown",
   "metadata": {},
   "source": [
    "## 1d) "
   ]
  },
  {
   "cell_type": "code",
   "execution_count": null,
   "metadata": {},
   "outputs": [],
   "source": [
    "def test_1d():\n",
    "    W_next_A_1, H_next_A_1 = NMF(A_1, 1, delta = 1e-9, maxiter = 1000, seed = 0)\n",
    "    W_next_A_1_new_seed, H_next_A_1_new_seed = NMF(A_1, 1, delta = 1e-9, maxiter = 1000, seed = 8)\n",
    "\n",
    "    W_next_A_2, H_next_A_2 = NMF(A_2, 1, delta = 1e-9, maxiter = 1000, seed = 1)   \n",
    "    W_next_A_2_new_seed, H_next_A_2_new_seed = NMF(A_2, 1, delta = 1e-9, maxiter = 1000, seed = 23)    \n",
    " \n",
    "\n",
    "    print(\"Matrix A_1:\")\n",
    "\n",
    "    data_A11 = [np.array([\"W\",\"H\",\"WH\",\"Norm\"]),[np.round(W_next_A_1,3),np.round(H_next_A_1,3),np.dot(W_next_A_1,H_next_A_1),np.linalg.norm(A_1- np.dot(W_next_A_1,H_next_A_1), 'fro')]]\n",
    "    print(tabulate(data_A11, headers='firstrow', tablefmt='fancy_grid'))\n",
    "\n",
    "\n",
    "    #print(f\"W: \\n {W_next_A_1}\")\n",
    "    #print(f\"H: \\n {H_next_A_1}\")\n",
    "    #print(f\"WH: \\n {np.dot(W_next_A_1,H_next_A_1)}\")\n",
    "    #print(f\"Norm: {np.linalg.norm(A_1- np.dot(W_next_A_1,H_next_A_1), 'fro')}\") \n",
    "\n",
    "    \n",
    "    print()\n",
    "    print(\"Matrix A_1 with new seed:\")\n",
    "    data_A1_new_seed = [np.array([\"W\",\"H\",\"WH\",\"Norm\"]),[np.round(W_next_A_1_new_seed,3),np.round(H_next_A_1_new_seed,3),np.round(np.dot(W_next_A_1_new_seed,H_next_A_1_new_seed),3),np.linalg.norm(A_1- np.dot(W_next_A_1_new_seed,H_next_A_1_new_seed), 'fro')]]\n",
    "    print(tabulate(data_A1_new_seed, headers='firstrow', tablefmt='fancy_grid'))\n",
    "    #print(f\"W: \\n {W_next_A_1_new_seed}\")\n",
    "    #print(f\"H: \\n {H_next_A_1_new_seed}\")\n",
    "    #print(f\"WH: \\n {np.dot(W_next_A_1_new_seed,H_next_A_1_new_seed)}\")\n",
    "    #print(f\"Norm: {np.linalg.norm(A_1- np.dot(W_next_A_1_new_seed,H_next_A_1_new_seed), 'fro')}\") \n",
    "    #print(\"\\n\\n\")\n",
    "\n",
    "    \n",
    "\n",
    "    print(\"Matrix A_2:\")\n",
    "    # print(f\"W: \\n {W_next_A_2}\")\n",
    "    # print(f\"H: \\n {H_next_A_2}\")\n",
    "    # print(f\"WH: \\n {np.dot(W_next_A_2,H_next_A_2)}\")\n",
    "    # print(f\"Norm: {np.linalg.norm(A_2- np.dot(W_next_A_2,H_next_A_2), 'fro')}\")\n",
    "\n",
    "    data_A21 = [np.array([\"W\",\"H\",\"WH\",\"Norm\"]),[np.round(W_next_A_2,3),np.round(H_next_A_2,3),np.round(np.dot(W_next_A_2,H_next_A_2),3),np.linalg.norm(A_2- np.dot(W_next_A_2,H_next_A_2), 'fro')]]\n",
    "    print(tabulate(data_A21, headers='firstrow', tablefmt='fancy_grid'))\n",
    "\n",
    "    #print()\n",
    "    print(\"Matrix A_2 new seed:\")\n",
    "    # print(f\"W: \\n {W_next_A_2_new_seed}\")\n",
    "    # print(f\"H: \\n {H_next_A_2_new_seed}\")\n",
    "    # print(f\"WH: \\n {np.dot(W_next_A_2_new_seed,H_next_A_2_new_seed)}\")\n",
    "    # print(f\"Norm: {np.linalg.norm(A_2- np.dot(W_next_A_2_new_seed,H_next_A_2_new_seed), 'fro')}\")\n",
    "    data_A2_new_seed = [np.array([\"W\",\"H\",\"WH\",\"Norm\"]),[np.round(W_next_A_2_new_seed,3),np.round(H_next_A_2_new_seed,3),np.round(np.dot(W_next_A_2_new_seed,H_next_A_2_new_seed),3),np.linalg.norm(A_2- np.dot(W_next_A_2_new_seed,H_next_A_2_new_seed), 'fro')]]\n",
    "    print(tabulate(data_A2_new_seed, headers='firstrow', tablefmt='fancy_grid'))\n",
    "\n",
    "    \n",
    "test_1d()"
   ]
  },
  {
   "cell_type": "markdown",
   "metadata": {},
   "source": [
    "## 1e"
   ]
  },
  {
   "cell_type": "code",
   "execution_count": null,
   "metadata": {},
   "outputs": [],
   "source": [
    "def test_1e():\n",
    "\n",
    "    W_next_A_1, H_next_A_1 = NMF(A_1, 2, delta = 1e-9, maxiter = 1000, seed = 0)\n",
    "    W_next_A_2, H_next_A_2 = NMF(A_2, 2, delta = 1e-9, maxiter = 1000, seed = 0)    \n",
    "    print(\"Matrix A_1:\")\n",
    "    data_A1 = [np.array([\"W\",\"H\",\"WH\",\"Norm\"]),[np.round(W_next_A_1,3),np.round(H_next_A_1,3),np.dot(W_next_A_1,H_next_A_1),np.linalg.norm(A_1- np.dot(W_next_A_1,H_next_A_1), 'fro')]]\n",
    "    print(tabulate(data_A1, headers='firstrow', tablefmt='fancy_grid'))\n",
    "\n",
    "    print(\"Matrix A_2:\")\n",
    "    data_A2 = [np.array([\"W\",\"H\",\"WH\",\"Norm\"]),[np.round(W_next_A_2,3),np.round(H_next_A_2,3),np.dot(W_next_A_2,H_next_A_2),np.linalg.norm(A_2- np.dot(W_next_A_2,H_next_A_2), 'fro')]]\n",
    "    print(tabulate(data_A2, headers='firstrow', tablefmt='fancy_grid'))\n",
    "\n",
    "    #fig = go.Figure(data=[go.Table(header=dict(values=[\"W\",\"H\",\"WH\",\"Norm\"]),\n",
    "    #             cells=dict(values=[np.round(W_next_A_1,3),np.round(H_next_A_1,3),np.dot(W_next_A_1,H_next_A_1),np.linalg.norm(A_1- np.dot(W_next_A_1,H_next_A_1), 'fro')]))\n",
    "    #                 ])\n",
    "    #fig.show()\n",
    "\n",
    "test_1e()"
   ]
  },
  {
   "cell_type": "markdown",
   "metadata": {},
   "source": []
  },
  {
   "cell_type": "markdown",
   "metadata": {},
   "source": [
    "## 1f)"
   ]
  },
  {
   "cell_type": "code",
   "execution_count": 69,
   "metadata": {},
   "outputs": [
    {
     "data": {
      "text/latex": [
       "The three eigenvalues of $A_3$ is [4. 1. 0.]."
      ],
      "text/plain": [
       "<IPython.core.display.Latex object>"
      ]
     },
     "metadata": {},
     "output_type": "display_data"
    },
    {
     "data": {
      "text/latex": [
       "The three eigenvalues of $A_4$ is [-0.7577  2.0991  5.6586]."
      ],
      "text/plain": [
       "<IPython.core.display.Latex object>"
      ]
     },
     "metadata": {},
     "output_type": "display_data"
    }
   ],
   "source": [
    "def oppg_1f():\n",
    "    eigenvalues_A3,eigenvectors_A3 = np.linalg.eig(A_3)\n",
    "    eigenvalues_A4,eigenvectors_A4 = np.linalg.eig(A_4)\n",
    "\n",
    "    #Preparing to round off a the eigenvalue -4.04414586e-16 to 0 instead of -0. Caused by machine error.\n",
    "    eigenvalues_A3[2] = np.abs(eigenvalues_A3[2])  \n",
    "\n",
    "    \n",
    "    display(Latex(f'The three eigenvalues of $A_{3}$ is {np.round(eigenvalues_A3,4)}.')) #Rounds the\n",
    "    display(Latex(f'The three eigenvalues of $A_{4}$ is {(np.round(eigenvalues_A4,4))}.'))\n",
    "\n",
    "oppg_1f()\n"
   ]
  },
  {
   "cell_type": "code",
   "execution_count": null,
   "metadata": {},
   "outputs": [],
   "source": [
    "def oppg_1g():\n",
    "    \n",
    "    W_next_A3_1, H_next_A3_1, norms_A3_1 = NMF(A_3, 1, delta = 1e-9, maxiter = 1000, seed = 0,store_norms=True)\n",
    "    W_next_A3_2, H_next_A3_2, norms_A3_2 = NMF(A_3, 2, delta = 1e-9, maxiter = 1000, seed = 0,store_norms=True)\n",
    "    W_next_A3_3, H_next_A3_3, norms_A3_3 = NMF(A_3, 3, delta = 1e-9, maxiter = 1000, seed = 0,store_norms=True)\n",
    "    iters = np.linspace(0,1000,1000)\n",
    "    plt.plot(iters,norms_A3_1,label = \"d=1\")\n",
    "    plt.plot(iters,norms_A3_2,label= \"d=2\")\n",
    "    plt.plot(iters,norms_A3_3,label = \"d=3\")\n",
    "    plt.title(\"A3 for d=1, d=2,d=3\")\n",
    "    plt.yscale('log')\n",
    "    plt.xlabel(\"Iterations\")\n",
    "    plt.ylabel(r'$\\vert\\vert{A-WH}\\vert\\vert_F$')\n",
    "    plt.legend()\n",
    "\n",
    "    plt.show()\n",
    "\n",
    "    W_next_A4_1, H_next_A4_1, norms_A4_1 = NMF(A_4, 1, delta = 1e-9, maxiter = 1000, seed = 0,store_norms=True)\n",
    "    W_next_A4_2, H_next_A4_2, norms_A4_2 = NMF(A_4, 2, delta = 1e-9, maxiter = 1000, seed = 0,store_norms=True)\n",
    "    W_next_A4_3, H_next_A4_3, norms_A4_3 = NMF(A_4, 3, delta = 1e-9, maxiter = 1000, seed = 0,store_norms=True)\n",
    "    plt.plot(iters,norms_A4_1,label = \"d=1\")\n",
    "    plt.plot(iters,norms_A4_2,label= \"d=2\")\n",
    "    plt.plot(iters,norms_A4_3,label = \"d=3\")\n",
    "    plt.title(\"A4 for d=1, d=2,d=3\")\n",
    "    plt.yscale('log')\n",
    "    plt.xlabel(\"Iterations\")\n",
    "    plt.ylabel(r'$\\vert\\vert{A-WH}\\vert\\vert_F$')\n",
    "    plt.legend()\n",
    "\n",
    "    plt.show()\n",
    "\n",
    "\n",
    "\n",
    "\n",
    "\n",
    "\n",
    "oppg_1g()\n"
   ]
  },
  {
   "cell_type": "markdown",
   "metadata": {},
   "source": [
    "# Task 2"
   ]
  },
  {
   "cell_type": "code",
   "execution_count": null,
   "metadata": {},
   "outputs": [],
   "source": [
    "def load_images(N):\n",
    "    \"\"\"\n",
    "    Loads images from cryptopunk dataset. The loading order is deterministic,\n",
    "    so for a certain N the exact same images will be loaded. \n",
    "    Input:\n",
    "        N, integer, number of images to load\n",
    "    Output:\n",
    "        faces, (24,24,4,N) numpy array containing images\n",
    "    \"\"\"\n",
    "\n",
    "    # Allocate array to store images\n",
    "    faces = np.zeros((24,24,4,N))\n",
    "\n",
    "    # Iteration variable\n",
    "    i = 0\n",
    "\n",
    "    # Iterate over folders\n",
    "    for subdir, dirs, files in os.walk('./imgs'):\n",
    "\n",
    "        # Iterate over files\n",
    "        for file in files:\n",
    "\n",
    "            # Filepath to load from\n",
    "            filepath = subdir + os.sep + file\n",
    "\n",
    "            # Make sure that the file is a .png\n",
    "            if filepath[-3:] == 'png':\n",
    "\n",
    "                # Load the image\n",
    "                im = cv2.imread(filepath, cv2.IMREAD_UNCHANGED)\n",
    "\n",
    "                # Convert it to RGBA and rescale pixels\n",
    "                faces[:,:,:,i] = cv2.cvtColor(im, cv2.COLOR_BGRA2RGBA)/255.0\n",
    "\n",
    "                i+=1\n",
    "            if i == N:\n",
    "                break\n",
    "    return faces"
   ]
  },
  {
   "cell_type": "code",
   "execution_count": null,
   "metadata": {},
   "outputs": [],
   "source": [
    "# Code for plotting images\n",
    "def plotimgs(imgs, nplot = 8, rescale = False, filename = None):\n",
    "    \"\"\"\n",
    "    Plots nplot*nplot images on an nplot x nplot grid. \n",
    "    Saves to given filename if filename is given\n",
    "    Can also rescale the RGB channels\n",
    "    input:\n",
    "        imgs: (24,24,4,N) or (24,24,3,N) array containing images, where N > nplot**2\n",
    "        nplot: integer, nplot**2 images will be plotted\n",
    "        rescale: bool\n",
    "        filename: string, figure will be saved to this location. Should end with \".png\".\n",
    "    \"\"\"\n",
    "    # We will change some of the parameters of matplotlib, so we store the initial ones\n",
    "    oldparams = plt.rcParams['figure.figsize']\n",
    "\n",
    "    # New params to make better plot. There definitely exists better ways of doing this\n",
    "    plt.rcParams['figure.figsize'] = (16, 16)\n",
    "\n",
    "    # Initialize subplots\n",
    "    fig, axes = plt.subplots(nplot,nplot)\n",
    "\n",
    "    # Set background color\n",
    "    plt.gcf().set_facecolor(\"lightgray\")\n",
    "\n",
    "    # Iterate over images\n",
    "    for idx in range(nplot**2):\n",
    "        \n",
    "        # Indices\n",
    "        i = idx//nplot; j = idx%nplot\n",
    "\n",
    "        # Remove axis\n",
    "        axes[i,j].axis('off')\n",
    "\n",
    "        # Rescale RGB channels by dividing my maximal value\n",
    "        if rescale:\n",
    "            scaled_img = np.copy(imgs[:,:,:,idx])\n",
    "            scaled_img[:,:,:3] = scaled_img[:,:,:3]/np.max(scaled_img[:,:,:3])\n",
    "            axes[i,j].imshow(scaled_img)\n",
    "        else:\n",
    "            axes[i,j].imshow(imgs[:,:,:,idx])\n",
    "    \n",
    "    # Tight layout so images will appear closer together\n",
    "    plt.tight_layout()\n",
    "\n",
    "    # Save if filename is given\n",
    "    if filename is not None:\n",
    "        plt.savefig(filename)\n",
    "\n",
    "    plt.show()\n",
    "\n",
    "    # Return to old parameters\n",
    "    plt.rcParams['figure.figsize'] = oldparams"
   ]
  },
  {
   "cell_type": "markdown",
   "metadata": {},
   "source": [
    "## 2a"
   ]
  },
  {
   "cell_type": "code",
   "execution_count": null,
   "metadata": {},
   "outputs": [],
   "source": [
    "def plot_random_faces():\n",
    "    # Load all 10000 images\n",
    "    faces = load_images(10000)\n",
    "\n",
    "    # Select N random images\n",
    "    choices = np.random.choice(faces.shape[-1],N, replace = False)\n",
    "    faces = faces[:,:,:,choices]\n",
    "\n",
    "    # Check that the shape is correct\n",
    "    print(faces.shape)\n",
    "\n",
    "    # Example of plotting 8 times 8 images stored in \"faces\" and saving the output to a file named \"punks.png\"\n",
    "    plotimgs(faces, 8, filename=\"punks.png\")\n",
    "plot_random_faces()"
   ]
  },
  {
   "cell_type": "markdown",
   "metadata": {},
   "source": [
    "## 2b\n",
    "Jeg har funnet ut at det er raskere å hente bildedata fra en npz fil vs loadimages, så jeg gjør det\n"
   ]
  },
  {
   "cell_type": "code",
   "execution_count": null,
   "metadata": {},
   "outputs": [],
   "source": [
    "def generate_face_data():\n",
    "    '''\n",
    "    This funtion loads all images to numpy arrays and saves them to a selection of smaller arrays. This\n",
    "    is to reduce runtime while testing the upcomming calculations.\n",
    "    '''\n",
    "    # Load all 10000 images\n",
    "    faces = load_images(10000)\n",
    "\n",
    "    # Select 500 random images\n",
    "    N = 500\n",
    "    choices = np.random.choice(faces.shape[-1],N, replace = False)\n",
    "    faces_500 = faces[:,:,:,choices]\n",
    "    assert (faces_500.shape == (24, 24, 4, 500))  # Make sure the dimensions are correct\n",
    "    \n",
    "    # Select 100 random images\n",
    "    N = 100\n",
    "    choices = np.random.choice(faces.shape[-1],N, replace = False)\n",
    "    faces_100 = faces[:,:,:,choices]\n",
    "    assert (faces_100.shape == (24, 24, 4, 100))  # Make sure the dimensions are correct\n",
    "    \n",
    "    # Select 100 random images\n",
    "    N = 4\n",
    "    choices = np.random.choice(faces.shape[-1],N, replace = False)\n",
    "    faces_4 = faces[:,:,:,choices]\n",
    "    assert (faces_4.shape == (24, 24, 4, 4))  # Make sure the dimensions are correct\n",
    "\n",
    "    \n",
    "    np.savez(\n",
    "        'faces',\n",
    "        faces = faces,\n",
    "        faces_500 = faces_500,  # 500 faces\n",
    "        faces_100 = faces_100,  # 100 faces\n",
    "        faces_4 = faces_4       # 4 faces\n",
    "    )\n",
    "generate_face_data()"
   ]
  },
  {
   "cell_type": "code",
   "execution_count": null,
   "metadata": {},
   "outputs": [],
   "source": [
    "def find_mean_faces(face_data):\n",
    "    '''\n",
    "    Contrary to the name, this function does not actualy find 'mean' faces, but rather the mean value of each pixel\n",
    "    in the faces dataset.\n",
    "    Input:\n",
    "        face_data: string, the face array for which we will calculate the mean\n",
    "    The output is saved to a file as a 24*24*4 array:\n",
    "        Filename:   mean_faces.npz\n",
    "        Arraydata:  face_mean\n",
    "    '''\n",
    "    # Start by loading the faces that are to be used\n",
    "    faces_data = np.load('faces.npz')\n",
    "    faces = faces_data[face_data]\n",
    "\n",
    "    ########################################################\n",
    "    # Create some test-data to verify that the \n",
    "    # method works\n",
    "    # faces[:, :, :, 0] = [[[1/4, 0, 0, 1 ]]]   # red red\n",
    "    # faces[:, :, :, 1] = [[[1/4, 0, 0, 1 ]]]   # red red\n",
    "    # faces[:, :, :, 2] = [[[1/4, 0, 0, 1 ]]]   # red red\n",
    "    # faces[:, :, :, 3] = [[[1/4, 0, 0, 1 ]]]   # nothing\n",
    "\n",
    "    # Alter face 3\n",
    "    # faces[6:18, 6:18, :, 3] = [[[0, 1, 0, 1]]]  # green\n",
    "    # The mean should be yellow\n",
    "\n",
    "    \n",
    "    plotimgs(faces, 8)\n",
    "    ########################################################\n",
    "\n",
    "\n",
    "    # The images are stored on the last index of the faces array\n",
    "    mean_faces = np.mean(faces, axis = 3)\n",
    "    assert(mean_faces.shape == (24, 24, 4)) # assert the correct shape\n",
    "    mean_faces = np.reshape(mean_faces, (24, 24, 4, 1))\n",
    "    \n",
    "    # Plotting\n",
    "    plt.imshow(mean_faces[:, :, :, 0])\n",
    "    plt.axis('off')\n",
    "    plt.show()\n",
    "\n",
    "find_mean_faces('faces')"
   ]
  },
  {
   "cell_type": "markdown",
   "metadata": {},
   "source": [
    "## 2c"
   ]
  },
  {
   "cell_type": "code",
   "execution_count": 43,
   "metadata": {},
   "outputs": [],
   "source": [
    "def calculate_NMF(faces, d_val):  \n",
    "    '''\n",
    "    Calculating the NMF of the 3 color channels, and plotting the the columns of W interpreted as RGB images.\n",
    "\n",
    "    Input:\n",
    "        d_val: int, number of columns in the W-matrix\n",
    "        \n",
    "    Output:\n",
    "        W: array\n",
    "        H: array\n",
    "    '''\n",
    "    \n",
    "    N = 500\n",
    "\n",
    "    # Split the images into opacity and rgb channels\n",
    "    #faces_opacity = faces[:,:,3,:]\n",
    "    faces_rgb = faces[:,:,:3,:]\n",
    "    shape = faces_rgb.shape\n",
    "\n",
    "    # Clever reshape \"trick\". This is the matrix we will apply the NMF to\n",
    "    faces_reshaped = faces_rgb.reshape(np.prod(shape)//N, N)\n",
    "\n",
    "    # Calculate the NMF of the A-matrix\n",
    "    W, H = NMF(faces_reshaped, d_val)\n",
    "\n",
    "    # Reshaping the W-matrix into a 24×24×3x64-matrix\n",
    "    W = np.reshape(W, (24, 24, 3, d_val))\n",
    "    assert (W.shape == (24, 24, 3, d_val))\n",
    "\n",
    "    # Plot the columns of W \n",
    "    plotimgs(W, nplot = 8, rescale = False, filename = None)\n",
    "\n",
    "    # Returning the W- and H-matrixes\n",
    "    return W, H\n"
   ]
  },
  {
   "cell_type": "code",
   "execution_count": null,
   "metadata": {},
   "outputs": [],
   "source": [
    "def to_c_funk():\n",
    "    faces_data = np.load('faces.npz')\n",
    "    faces = faces_data['faces_500']\n",
    "    W_calculated, H_calculated = calculate_NMF(faces, 64)\n",
    "# to_c_funk()"
   ]
  },
  {
   "cell_type": "markdown",
   "metadata": {},
   "source": [
    "## 2d"
   ]
  },
  {
   "cell_type": "code",
   "execution_count": null,
   "metadata": {},
   "outputs": [],
   "source": [
    "def calculate_reconstructions(W, H, plot_original_faces = False, original_faces_name = ''):\n",
    "    '''\n",
    "    Calculating the reconstructions WH, and plotting these\n",
    "\n",
    "    Input:\n",
    "        d_val: int, number of columns in the W-matrix\n",
    "        \n",
    "    Output:\n",
    "        W: array, previously calculated W-matrix\n",
    "        H: array, previously calculated W-matrix\n",
    "    '''\n",
    "    if plot_original_faces == True:\n",
    "        faces_data = np.load('faces.npz')\n",
    "        # faces = faces_data['faces_500']\n",
    "        faces = faces_data[original_faces_name]\n",
    "        plotimgs(faces, nplot = 8, rescale = False, filename = None)\n",
    "\n",
    "    # Plotting the matrix A = WH using the plotimgs-funtion.\n",
    "    plotimgs(np.dot(W, H), nplot = 8, rescale = False, filename = None)\n",
    "    \n",
    "# calculate_reconstructions(W_calculated, H_calculated)"
   ]
  },
  {
   "cell_type": "markdown",
   "metadata": {},
   "source": [
    "## 2e og 2f"
   ]
  },
  {
   "cell_type": "code",
   "execution_count": 45,
   "metadata": {},
   "outputs": [],
   "source": [
    "def calculate_norms(d_vals, iteration_norms, final_norms):\n",
    "    '''\n",
    "    Calculate the norms related to the NMF-function. You can either choose to calculate the norms for every iteration of the NMF-function, or just the final norm after the NMF has run.\n",
    "\n",
    "    Input:\n",
    "        d_vals: array, array containing the different int values for number of columns in the W-matrix\n",
    "        iteration_norms: bool, if the functions shall return the norms for every iteration\n",
    "        final_norms: bool, if the functions shall return the final norms after the NMF has run\n",
    "        \n",
    "    Output:\n",
    "        iteration_norms_arr: array, the calculated iterations norms\n",
    "        final_norms_arr: array, the calculated final norms\n",
    "    '''\n",
    "    \n",
    "    N = 500\n",
    "    iteration_norms_arr = []\n",
    "    final_norms_arr = []\n",
    "    \n",
    "    # Loading the image-data\n",
    "    faces_data = np.load('faces.npz')\n",
    "    faces = faces_data['faces_500'][:, :, 0:3, :]\n",
    "    \n",
    "    #faces_opacity = faces[:,:,3,:]\n",
    "    faces_rgb = faces[:,:,:3,:]\n",
    "    shape = faces_rgb.shape\n",
    "\n",
    "    # Clever reshape \"trick\". This is the matrix we will apply the NMF to\n",
    "    faces_reshaped = faces_rgb.reshape(np.prod(shape)//N, N)\n",
    "\n",
    "    for i in range(len(d_vals)):\n",
    "        W, H, n = NMF(faces_reshaped, d_vals[i], delta = 1e-9, maxiter = 1000, seed = 0, store_norms = True)\n",
    "        \n",
    "        iteration_norms_arr.append(n)\n",
    "        final_norms_arr.append(np.linalg.norm(faces_reshaped - np.dot(W, H), 'fro'))\n",
    "    \n",
    "    if iteration_norms == True and final_norms == False:\n",
    "        return iteration_norms_arr\n",
    "    elif iteration_norms == False and final_norms == True:\n",
    "        return final_norms_arr\n",
    "    else:\n",
    "        return iteration_norms_arr, final_norms_arr"
   ]
  },
  {
   "cell_type": "code",
   "execution_count": 47,
   "metadata": {},
   "outputs": [],
   "source": [
    "def plot_norms(norms, d_vals, plot_iteration_norms, plot_final_norms):\n",
    "    if plot_iteration_norms == True:\n",
    "        x_arr = np.arange(0, len(norms[0]), 1)\n",
    "        plt.plot(x_arr,norms[0], label = f'd = {d_vals[0]}')\n",
    "        plt.plot(x_arr,norms[1], label = f'd = {d_vals[1]}')\n",
    "        plt.plot(x_arr,norms[2], label = f'd = {d_vals[2]}')\n",
    "        plt.title(\"Norms as function of iterations\")\n",
    "        plt.xlabel(r'$k$')\n",
    "        plt.ylabel(r'$\\vert\\vert{A-W_{k} H_{k}}\\vert\\vert_{F}$')\n",
    "        plt.legend()\n",
    "        plt.yscale('log')\n",
    "        plt.show()\n",
    "\n",
    "    elif plot_final_norms == True:\n",
    "        plt.plot(d_vals, norms)\n",
    "        plt.title(r'Norms as function of $d$')\n",
    "        plt.xlabel(r'$d$')\n",
    "        plt.ylabel(r'$\\vert\\vert{A-WH}\\vert\\vert_{F}$')\n",
    "        plt.yscale('log')\n",
    "        plt.show()\n"
   ]
  },
  {
   "cell_type": "code",
   "execution_count": null,
   "metadata": {},
   "outputs": [],
   "source": [
    "# Dette er koden til 2e\n",
    "def iteration_norms():\n",
    "    d_vals = [16, 32, 64]\n",
    "    norms_calculated = calculate_norms(d_vals, True, False)\n",
    "    plot_norms(norms_calculated, d_vals, plot_iteration_norms = True, plot_final_norms = False)\n",
    "\n",
    "#iteration_norms()  "
   ]
  },
  {
   "cell_type": "code",
   "execution_count": 48,
   "metadata": {},
   "outputs": [
    {
     "name": "stderr",
     "output_type": "stream",
     "text": [
      "No artists with labels found to put in legend.  Note that artists whose label start with an underscore are ignored when legend() is called with no argument.\n"
     ]
    },
    {
     "data": {
      "image/png": "[encoded data removed]",
      "text/plain": [
       "<Figure size 1500x1000 with 1 Axes>"
      ]
     },
     "metadata": {
      "needs_background": "light"
     },
     "output_type": "display_data"
    }
   ],
   "source": [
    "# Dette er koden til 2f\n",
    "def final_norms():\n",
    "    d_vals = [16, 64, 128, 256]\n",
    "    norms_calculated = calculate_norms(d_vals, False, True)\n",
    "    plot_norms(norms_calculated, d_vals, plot_iteration_norms = False, plot_final_norms = True)\n",
    "\n",
    "# final_norms()"
   ]
  },
  {
   "cell_type": "code",
   "execution_count": null,
   "metadata": {},
   "outputs": [],
   "source": []
  },
  {
   "cell_type": "code",
   "execution_count": null,
   "metadata": {},
   "outputs": [],
   "source": []
  },
  {
   "cell_type": "markdown",
   "metadata": {},
   "source": [
    "# Task 3\n",
    "\n",
    "Det som er skrevet under er kopiert fra utdelt kode"
   ]
  },
  {
   "cell_type": "code",
   "execution_count": null,
   "metadata": {},
   "outputs": [],
   "source": [
    "# Legge til støy\n",
    "def add_noise(imgs_reshaped, sigma = 0.1):\n",
    "    \"\"\"\n",
    "    Adds gaussian noise to images as described in text.\n",
    "    Note that imgs must be given as a (24*24*3, N) numpy array, i.e the reshaped images\n",
    "    Input:\n",
    "        imgs_reshaped: (1728,N) numpy array\n",
    "        sigma: scalar, noise level\n",
    "    Output:\n",
    "        noisy_faces: (1728,N) numpy array containing noisy images\n",
    "    \"\"\"\n",
    "    # Noise level\n",
    "    sigma = 0.1\n",
    "\n",
    "    # Array that will store the rgb channels of the noisy images\n",
    "    noisy_faces = np.copy(imgs_reshaped)\n",
    "\n",
    "    # Number of noisy values we need\n",
    "    nnzero = faces_reshaped[np.nonzero(imgs_reshaped)].shape[0]\n",
    "\n",
    "    # Sample noisy values and add noise\n",
    "    noise = np.random.normal(0.0,1,nnzero)\n",
    "    noisy_faces[np.nonzero(imgs_reshaped)] += sigma*noise\n",
    "\n",
    "    # Clip to lie between 0 and 1 so that we can still interpret them as images\n",
    "    noisy_faces = np.maximum(0.0,np.minimum(1.0, noisy_faces))\n",
    "\n",
    "    return noisy_faces"
   ]
  },
  {
   "cell_type": "code",
   "execution_count": null,
   "metadata": {},
   "outputs": [],
   "source": [
    "noisy_faces = add_noise(faces_reshaped)\n",
    "\n",
    "# Calculate the error of the noisy images\n",
    "noise_residual = np.linalg.norm(noisy_faces - faces_reshaped)\n",
    "print(noise_residual)\n",
    "\n",
    "# For plotting noisy images we add the opacity\n",
    "noisy_faces_with_opacity = np.zeros(faces.shape)\n",
    "noisy_faces_with_opacity[:,:,:3,:] = noisy_faces.reshape(faces_rgb.shape)\n",
    "noisy_faces_with_opacity[:,:,3,:] = faces_opacity\n",
    "plotimgs(noisy_faces_with_opacity)"
   ]
  }
 ],
 "metadata": {
  "interpreter": {
   "hash": "31f2aee4e71d21fbe5cf8b01ff0e069b9275f58929596ceb00d14d90e3e16cd6"
  },
  "kernelspec": {
   "display_name": "Python 3.8.9 64-bit",
   "language": "python",
   "name": "python3"
  },
  "language_info": {
   "codemirror_mode": {
    "name": "ipython",
    "version": 3
   },
   "file_extension": ".py",
   "mimetype": "text/x-python",
   "name": "python",
   "nbconvert_exporter": "python",
   "pygments_lexer": "ipython3",
   "version": "3.8.9"
  }
 },
 "nbformat": 4,
 "nbformat_minor": 2
}
