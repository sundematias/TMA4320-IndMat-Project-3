{
 "cells": [
  {
   "cell_type": "code",
   "execution_count": 2,
   "metadata": {},
   "outputs": [],
   "source": [
    "# Importing libraries\n",
    "import numpy as np\n",
    "import matplotlib.pyplot as plt\n",
    "# from scipy.ndimage import label\n",
    "\n",
    "\n",
    "#%pip install opencv-python # Required to import cv2 !!!\n",
    "# import cv2\n",
    "\n",
    "from IPython.display import display, Latex, Math\n",
    "\n",
    "import os\n",
    "import time\n",
    "\n",
    "plt.rcParams['figure.dpi'] = 250"
   ]
  },
  {
   "cell_type": "markdown",
   "metadata": {},
   "source": [
    "# Task 1"
   ]
  },
  {
   "cell_type": "code",
   "execution_count": 3,
   "metadata": {},
   "outputs": [],
   "source": [
    "A_1 = np.array([\n",
    "    [1, 0],\n",
    "    [0, 1]\n",
    "]) \n",
    "\n",
    "A_2 = np.array([\n",
    "    [1, 2],\n",
    "    [1, 1], \n",
    "    [1, 2]\n",
    "])\n",
    "\n",
    "A_3 = np.array([\n",
    "    [2, 1, 1],\n",
    "    [2, 1, 1], \n",
    "    [1, 1, 2]\n",
    "])\n",
    "\n",
    "A_4 = np.array([\n",
    "    [2, 1, 0],\n",
    "    [1, 2, 3], \n",
    "    [0, 3, 3]\n",
    "])"
   ]
  },
  {
   "cell_type": "code",
   "execution_count": 27,
   "metadata": {},
   "outputs": [],
   "source": [
    "def NMF(V, d, delta = 1e-9, maxiter = 1000, seed = 0, store_norms = False):\n",
    "    \"\"\"\n",
    "    ((Skriv en forklaring på hva funksjonen gjør her))\n",
    "    input:\n",
    "        V: (m,n) input array\n",
    "        d: integer, Number of components we want to decompose V into\n",
    "        delta, float, small number for safe division\n",
    "        maxiter: integer, maximum number of iterations\n",
    "        seed: integer, random seed\n",
    "    output:\n",
    "        W: (m,d) array\n",
    "        H: (d,n) array\n",
    "    \"\"\"\n",
    "\n",
    "    if seed != 0:\n",
    "        np.random.seed(seed)\n",
    "    \n",
    "    norms = np.zeros(maxiter)\n",
    "\n",
    "    #Initialize W and H to random numbers between 0 and 1 with the correct shape\n",
    "    m = np.shape(V)[0]\n",
    "    n = np.shape(V)[1]\n",
    "    W_0 = np.random.uniform(0.0, 1.0, m*d).reshape(m,d)\n",
    "    H_0 = np.random.uniform(0.0, 1.0, d*n).reshape(d,n)\n",
    "\n",
    "    #Scale the matrixes\n",
    "    W_0 = np.sqrt(np.mean(V)/d)*W_0\n",
    "    H_0 = np.sqrt(np.mean(V)/d)*H_0\n",
    "    #print(\"W_0 \",W_0)\n",
    "    #print(\"H_0 \",H_0)\n",
    "    \n",
    "    W_next = np.copy(W_0)\n",
    "    W_prev = np.copy(W_0)\n",
    "    H_next = np.copy(H_0)\n",
    "    H_prev = np.copy(H_0)\n",
    "    \n",
    "    for k in range(maxiter):\n",
    "        #gir samme resultat\n",
    "        #H_temp = np.divide(np.multiply(H_prev,np.dot(W_prev.T,V)),np.linalg.multi_dot([W_prev.T,W_prev,H_prev])+delta)\n",
    "        #W_temp = np.divide(np.multiply(W_prev,np.dot(V,H_next.T)),np.linalg.multi_dot([W_prev,H_next,H_next.T])+delta)\n",
    "\n",
    "        H_next = (H_prev * np.dot(W_prev.T,V)) / (np.linalg.multi_dot([W_prev.T,W_prev,H_prev])+delta)\n",
    "        W_next = (W_prev * np.dot(V,H_next.T)) / (np.linalg.multi_dot([W_prev,H_next,H_next.T])+delta)\n",
    "        H_prev = np.copy(H_next)\n",
    "        W_prev = np.copy(W_next)\n",
    "        norms[k] = np.linalg.norm(V- np.dot(W_next, H_next), 'fro')\n",
    "\n",
    "    if store_norms == False:\n",
    "        return W_next, H_next\n",
    "    else:\n",
    "        return W_next, H_next, norms"
   ]
  },
  {
   "cell_type": "markdown",
   "metadata": {},
   "source": [
    "## 1d) "
   ]
  },
  {
   "cell_type": "code",
   "execution_count": 26,
   "metadata": {},
   "outputs": [
    {
     "name": "stdout",
     "output_type": "stream",
     "text": [
      "Matrix A_1:\n",
      "W: \n",
      " [[0.05044556]\n",
      " [0.34314797]]\n",
      "H: \n",
      " [[0.41934776 2.85254715]]\n",
      "WH: \n",
      " [[0.02115423 0.14389833]\n",
      " [0.14389833 0.97884577]]\n",
      "Norm: 1.0\n",
      "Matrix A_2:\n",
      "W: \n",
      " [[0.48669273]\n",
      " [0.29703699]\n",
      " [0.48669273]]\n",
      "H: \n",
      " [[2.26065642 3.99274961]]\n",
      "WH: \n",
      " [[1.10024505 1.94324222]\n",
      " [0.67149858 1.18599434]\n",
      " [1.10024505 1.94324222]]\n",
      "Norm: 0.4111546000651087\n"
     ]
    }
   ],
   "source": [
    "def test_1d():\n",
    "    W_next_A_1, H_next_A_1 = NMF(A_1, 1, delta = 1e-9, maxiter = 1000, seed = 0)\n",
    "    W_next_A_2, H_next_A_2 = NMF(A_2, 1, delta = 1e-9, maxiter = 1000, seed = 0)    \n",
    "\n",
    "    print(\"Matrix A_1:\")\n",
    "    print(f\"W: \\n {W_next_A_1}\")\n",
    "    print(f\"H: \\n {H_next_A_1}\")\n",
    "    print(f\"WH: \\n {np.dot(W_next_A_1,H_next_A_1)}\")\n",
    "    print(f\"Norm: {np.linalg.norm(A_1- np.dot(W_next_A_1,H_next_A_1), 'fro')}\") \n",
    "\n",
    "    print(\"Matrix A_2:\")\n",
    "    print(f\"W: \\n {W_next_A_2}\")\n",
    "    print(f\"H: \\n {H_next_A_2}\")\n",
    "    print(f\"WH: \\n {np.dot(W_next_A_2,H_next_A_2)}\")\n",
    "    print(f\"Norm: {np.linalg.norm(A_2- np.dot(W_next_A_2,H_next_A_2), 'fro')}\")\n",
    "\n",
    "test_1d()"
   ]
  },
  {
   "cell_type": "markdown",
   "metadata": {},
   "source": [
    "## 1e"
   ]
  },
  {
   "cell_type": "code",
   "execution_count": 25,
   "metadata": {},
   "outputs": [
    {
     "name": "stdout",
     "output_type": "stream",
     "text": [
      "Matrix A_1:\n",
      "W: \n",
      " [[0.3539396  0.        ]\n",
      " [0.         0.42223312]]\n",
      "H: \n",
      " [[2.82534081 0.        ]\n",
      " [0.         2.36835995]]\n",
      "WH: \n",
      " [[1. 0.]\n",
      " [0. 1.]]\n",
      "Norm: 5.509575261874828e-10\n",
      "Matrix A_2:\n",
      "W: \n",
      " [[1.31976752 0.56122215]\n",
      " [0.00356635 0.56673261]\n",
      " [1.31976752 0.56122215]]\n",
      "H: \n",
      " [[0.00738714 0.7671294 ]\n",
      " [1.76445406 1.75967313]]\n",
      "WH: \n",
      " [[1. 2.]\n",
      " [1. 1.]\n",
      " [1. 2.]]\n",
      "Norm: 1.874191801692622e-09\n"
     ]
    }
   ],
   "source": [
    "def test_1e():\n",
    "    W_next_A_1, H_next_A_1 = NMF(A_1, 2, delta = 1e-9, maxiter = 1000, seed = 0)\n",
    "    W_next_A_2, H_next_A_2 = NMF(A_2, 2, delta = 1e-9, maxiter = 1000, seed = 0)    \n",
    "\n",
    "    print(\"Matrix A_1:\")\n",
    "    print(f\"W: \\n {W_next_A_1}\")\n",
    "    print(f\"H: \\n {H_next_A_1}\")\n",
    "    print(f\"WH: \\n {np.dot(W_next_A_1,H_next_A_1)}\")\n",
    "    print(f\"Norm: {np.linalg.norm(A_1- np.dot(W_next_A_1,H_next_A_1), 'fro')}\") \n",
    "\n",
    "    print(\"Matrix A_2:\")\n",
    "    print(f\"W: \\n {W_next_A_2}\")\n",
    "    print(f\"H: \\n {H_next_A_2}\")\n",
    "    print(f\"WH: \\n {np.dot(W_next_A_2,H_next_A_2)}\")\n",
    "    print(f\"Norm: {np.linalg.norm(A_2- np.dot(W_next_A_2,H_next_A_2), 'fro')}\")\n",
    "\n",
    "test_1e()"
   ]
  },
  {
   "cell_type": "code",
   "execution_count": null,
   "metadata": {},
   "outputs": [],
   "source": []
  },
  {
   "cell_type": "code",
   "execution_count": null,
   "metadata": {},
   "outputs": [],
   "source": []
  },
  {
   "cell_type": "code",
   "execution_count": null,
   "metadata": {},
   "outputs": [],
   "source": []
  },
  {
   "cell_type": "code",
   "execution_count": null,
   "metadata": {},
   "outputs": [],
   "source": []
  },
  {
   "cell_type": "code",
   "execution_count": null,
   "metadata": {},
   "outputs": [],
   "source": [
    "\n"
   ]
  }
 ],
 "metadata": {
  "interpreter": {
   "hash": "31f2aee4e71d21fbe5cf8b01ff0e069b9275f58929596ceb00d14d90e3e16cd6"
  },
  "kernelspec": {
   "display_name": "Python 3.8.9 64-bit",
   "language": "python",
   "name": "python3"
  },
  "language_info": {
   "codemirror_mode": {
    "name": "ipython",
    "version": 3
   },
   "file_extension": ".py",
   "mimetype": "text/x-python",
   "name": "python",
   "nbconvert_exporter": "python",
   "pygments_lexer": "ipython3",
   "version": "3.8.9"
  },
  "orig_nbformat": 4
 },
 "nbformat": 4,
 "nbformat_minor": 2
}
