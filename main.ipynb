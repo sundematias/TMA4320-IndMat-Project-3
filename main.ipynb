{
 "cells": [
  {
   "cell_type": "code",
   "execution_count": 7,
   "metadata": {},
   "outputs": [],
   "source": [
    "# Importing libraries\n",
    "import numpy as np\n",
    "import matplotlib.pyplot as plt\n",
    "# from scipy.ndimage import label\n",
    "\n",
    "\n",
    "#%pip install opencv-python # Required to import cv2 !!!\n",
    "# import cv2\n",
    "\n",
    "from IPython.display import display, Latex, Math\n",
    "\n",
    "import os\n",
    "import time\n",
    "\n",
    "plt.rcParams['figure.dpi'] = 250"
   ]
  },
  {
   "cell_type": "markdown",
   "metadata": {},
   "source": [
    "# Task 1"
   ]
  },
  {
   "cell_type": "code",
   "execution_count": null,
   "metadata": {},
   "outputs": [],
   "source": [
    "A_1 = np.array([\n",
    "    [1, 0],\n",
    "    [0, 1]\n",
    "]) \n",
    "\n",
    "A_2 = np.array([\n",
    "    [1, 2],\n",
    "    [1, 1], \n",
    "    [1, 2]\n",
    "])\n",
    "\n",
    "A_3 = np.array([\n",
    "    [2, 1, 1],\n",
    "    [2, 1, 1], \n",
    "    [1, 1, 2]\n",
    "])\n",
    "\n",
    "A_4 = np.array([\n",
    "    [2, 1, 0],\n",
    "    [1, 2, 3], \n",
    "    [0, 3, 3]\n",
    "])"
   ]
  }
 ],
 "metadata": {
  "interpreter": {
   "hash": "31f2aee4e71d21fbe5cf8b01ff0e069b9275f58929596ceb00d14d90e3e16cd6"
  },
  "kernelspec": {
   "display_name": "Python 3.8.9 64-bit",
   "language": "python",
   "name": "python3"
  },
  "language_info": {
   "codemirror_mode": {
    "name": "ipython",
    "version": 3
   },
   "file_extension": ".py",
   "mimetype": "text/x-python",
   "name": "python",
   "nbconvert_exporter": "python",
   "pygments_lexer": "ipython3",
   "version": "3.8.9"
  },
  "orig_nbformat": 4
 },
 "nbformat": 4,
 "nbformat_minor": 2
}
